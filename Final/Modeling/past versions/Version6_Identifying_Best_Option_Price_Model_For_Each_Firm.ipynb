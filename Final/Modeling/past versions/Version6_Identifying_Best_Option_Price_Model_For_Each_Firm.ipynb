{
 "cells": [
  {
   "cell_type": "markdown",
   "id": "d3c8837d",
   "metadata": {},
   "source": [
    "<h2>Identifying the Best Option Price Model for each Firm<h2>"
   ]
  },
  {
   "cell_type": "markdown",
   "id": "b5248605",
   "metadata": {},
   "source": [
    "The goal of the project is to determine for each firm, which model would best approximate the option price. \n",
    "\n",
    "Here is the structure of the code:\n",
    "\n",
    "We look at the firms from $faangTickers$.\n",
    "\n",
    "We also pre-determined a list of features that is of our interest\n",
    "\n",
    "We go through each of firm in $faangTickers$. Before computing the MSE, we use TimeSeriesSplit to split the data chronically according to the dates towards expiration (it only makes sense to use the data of the options that expire recently to predict behavior of the options expires in the future).\n",
    "\n",
    "Now we loop through each power set of features. After splitting, we train the data using the models from the models_list, and compute their respective mse for each split, and records them in rmses. $rmses$ is a 2-d table, rows corresponds to different models, columns corresponds to the splits for each subset of features (1-5).\n",
    "\n",
    "Then by taking the average across all splits for each feature, we produce $amses$, whose rows corresponds to different models, and columns corresponds to the average mse of each feature.\n",
    "\n",
    "And finally, by referring to $amses$, we check which set of features and models performs the best for each firm."
   ]
  },
  {
   "cell_type": "markdown",
   "id": "486b5208",
   "metadata": {},
   "source": [
    "We first import all the packages\n"
   ]
  },
  {
   "cell_type": "code",
   "execution_count": null,
   "id": "a56d2630",
   "metadata": {},
   "outputs": [],
   "source": [
    "import pandas as pd\n",
    "import numpy as np\n",
    "from scipy.stats import norm\n",
    "from sklearn.model_selection import KFold\n",
    "from sklearn.ensemble import BaggingRegressor\n",
    "from sklearn.neighbors import KNeighborsRegressor\n",
    "from sklearn.linear_model import LinearRegression\n",
    "from sklearn.ensemble import RandomForestRegressor\n",
    "from sklearn.model_selection import train_test_split, cross_val_score\n",
    "import matplotlib.pyplot as plt\n",
    "from sklearn.metrics import mean_squared_error as mse\n",
    "from sklearn.linear_model import Ridge, Lasso\n",
    "from xgboost import XGBRegressor\n",
    "import logging\n",
    "from sklearn.model_selection import train_test_split, TimeSeriesSplit\n",
    "import ipywidgets as widgets\n",
    "from IPython.display import display\n"
   ]
  },
  {
   "cell_type": "code",
   "execution_count": 10,
   "id": "eefaf557",
   "metadata": {},
   "outputs": [],
   "source": [
    "## For readability, we disallow certain features\n",
    "## block the error messaging\n",
    "logging.getLogger(\"yfinance\").setLevel(logging.CRITICAL)\n",
    "pd.options.mode.chained_assignment = None"
   ]
  },
  {
   "cell_type": "code",
   "execution_count": 11,
   "id": "133fd2d9",
   "metadata": {},
   "outputs": [
    {
     "name": "stdout",
     "output_type": "stream",
     "text": [
      "(4650, 26)\n"
     ]
    }
   ],
   "source": [
    "# Full path to the FAANG_data.csv file\n",
    "file_path = \"/Users/zouruiqi2020/Downloads/data-science-summer-2025-main/My Project/Final/Data Collection/FAANG_data/FAANG_data_processed.csv\"\n",
    "\n",
    "# Read the CSV into a DataFrame\n",
    "faang_df_clean = pd.read_csv(file_path)\n",
    "\n",
    "print(faang_df_clean.shape)"
   ]
  },
  {
   "cell_type": "markdown",
   "id": "a2831213",
   "metadata": {},
   "source": [
    "🟦 Definitions:\n",
    "\n",
    "LastPrice is the most recent transaction price of an option, reflecting real market behavior.\n",
    "\n",
    "\n",
    "Black-Scholes Price is a theoretical value based on assumptions such as constant volatility, no arbitrage, and frictionless markets.\n",
    "\n",
    "\n",
    "🟨 Why use the Black-Scholes model?\n",
    "We use Black-Scholes as a baseline to estimate what the option should be worth under idealized conditions. Comparing this theoretical price to the observed lastPrice helps us identify deviations that may be due to market sentiment, liquidity constraints, or mispricing.\n",
    "\n",
    "\n",
    "🟩 What are we trying to do?\n",
    "Our objective is to develop a model that accurately predicts lastPrice. While Black-Scholes provides a clean theoretical benchmark, it doesn’t fully capture the complexities of real markets. By modeling lastPrice, we aim to better understand and anticipate how options are actually priced in practice—accounting for behaviors, frictions, and nonlinearities beyond the scope of traditional theory.\n"
   ]
  },
  {
   "cell_type": "markdown",
   "id": "d49fd20c",
   "metadata": {},
   "source": [
    "Here is where we keep all the candidate features for linear regressions, and the list of other models that we'd like to use to compare and determine the best model.\n",
    "\n",
    "#Constants here needs to be modified if more features and models needs to be added"
   ]
  },
  {
   "cell_type": "code",
   "execution_count": 12,
   "id": "57d67086",
   "metadata": {},
   "outputs": [],
   "source": [
    "#attempt to improve the black-scholes model by adding in the following variables\n",
    "candidate_list = ['bs_price', 'impliedVolatility', 'log_moneyness', 'ask_bid_spread']\n",
    "\n",
    "#code that generate all powerset of candidate list\n",
    "select = [[1], [0]]\n",
    "for i in range(len(candidate_list)-1):\n",
    "    select_new = []\n",
    "    for j in select:\n",
    "        j_0 = j.copy()\n",
    "        j_0.append(0)\n",
    "        j_1 = j.copy()\n",
    "        j_1.append(1)\n",
    "        select_new.append(j_0)\n",
    "        select_new.append(j_1)\n",
    "    select = select_new\n",
    "\n",
    "powerset_candidate_list = []\n",
    "for i in select:\n",
    "    subset = []\n",
    "    for j in range(len(i)):\n",
    "        if i[j] == 1:\n",
    "            subset.append(candidate_list[j])\n",
    "    powerset_candidate_list.append(subset)\n",
    "\n",
    "## For each firm, try to evaluate the best model and features needed\n",
    "# Append bs_price to each candidate subset\n",
    "for subset in powerset_candidate_list:\n",
    "    if 'bs_price' not in subset:\n",
    "        subset.insert(0, 'bs_price')\n",
    "\n",
    "\n",
    "# Here is the list of \n",
    "num_splits = 5\n",
    "num_models = 7 + 1\n",
    "models_list = [\"BS-Model\", \"MLR\", \"KNN\", \"Ridge\", \"Lasso\", \"Bagging\", \"XGBoost\", \"Random Forest\"]"
   ]
  },
  {
   "cell_type": "code",
   "execution_count": 13,
   "id": "d7680975",
   "metadata": {},
   "outputs": [],
   "source": [
    "models = {\n",
    "    \"MLR\": LinearRegression(),\n",
    "    \"KNN\": KNeighborsRegressor(10),\n",
    "    \"Ridge\": Ridge(alpha=1),\n",
    "    \"Lasso\": Lasso(alpha=1),\n",
    "    \"Bagging\": BaggingRegressor(\n",
    "        estimator=LinearRegression(),\n",
    "        n_estimators=100,\n",
    "        max_samples=1.0,\n",
    "        bootstrap=True,\n",
    "        random_state=216\n",
    "    ),\n",
    "    \"XGB\": XGBRegressor(\n",
    "        n_estimators=100,\n",
    "        learning_rate=0.1,\n",
    "        max_depth=5\n",
    "    ),\n",
    "    \"RF\": RandomForestRegressor(\n",
    "        n_estimators=500,\n",
    "        min_samples_leaf=5,\n",
    "        max_features=4,\n",
    "        bootstrap=True,\n",
    "        random_state=216\n",
    "    )\n",
    "}"
   ]
  },
  {
   "cell_type": "code",
   "execution_count": 14,
   "id": "5be1a494",
   "metadata": {},
   "outputs": [],
   "source": [
    "def evaluate_rmses(amses, company_name:str, train_set):\n",
    "    # Find the avg cv mse for each subset of features here\n",
    "    print(\"We are looking at\", company_name, \"based on\", train_set.shape[0])\n",
    "    print(\"The features that would produce the lowest mean cv mse are \\n\", \n",
    "        powerset_candidate_list[np.argmin(np.mean(amses, axis=0))],\n",
    "        \"\\n and using these features, there is an avg cv mse of\",\n",
    "        np.mean(amses, axis=0)[np.argmin(np.mean(amses, axis=0))], \n",
    "        \" across all the models.\\n\")\n",
    "\n",
    "    print(\"Among different models, the model with the best overall performance is\", \n",
    "        models_list[np.argmin(np.mean(amses, axis = 1))], \n",
    "        \"\\nIn comparison to the Black-Schole's model, it improves the performance by\", \n",
    "        float((np.mean(amses, axis=1)[0] - np.mean(amses, axis=1)[np.argmin(np.mean(amses, axis=1))])/np.mean(amses, axis=1)[0]) * 100, \"%.\\n\")\n",
    "\n",
    "    print()\n",
    "    # This code will print the improvement by each model\n",
    "    for model in range(len(models_list)):\n",
    "        print(\"The\", models_list[model], \"improved the performance by\", \n",
    "            float((np.mean(amses[0,:])- np.mean(amses[model,:]))/\n",
    "                                                np.mean(amses[0, :])) * 100, \"%.\\n\")"
   ]
  },
  {
   "cell_type": "markdown",
   "id": "342d5e85",
   "metadata": {},
   "source": [
    "We will draw several graphs to compare the performances of each model. Here is where we keep track of the performances for each individual firm"
   ]
  },
  {
   "cell_type": "code",
   "execution_count": 15,
   "id": "4e03cc7f",
   "metadata": {},
   "outputs": [],
   "source": [
    "all_company_amses=pd.DataFrame({\n",
    "                        \"Meta\":[0, 0, 0, 0, 0, 0, 0, 0],\n",
    "                        \"Apple\":[0, 0, 0, 0, 0, 0, 0, 0],\n",
    "                        \"Amazon\":[0, 0, 0, 0, 0, 0, 0, 0],\n",
    "                        \"Netflix\":[0, 0, 0, 0, 0, 0, 0, 0],\n",
    "                        \"Google\":[0, 0, 0, 0, 0, 0, 0, 0],\n",
    "}, index = models_list)"
   ]
  },
  {
   "cell_type": "markdown",
   "id": "4dec43f2",
   "metadata": {},
   "source": [
    "Now we can look at each specific firm and determine the best models, and features that we need in order to best predict the option price.\n",
    "\n",
    "<h2> This is for Meta <h2>"
   ]
  },
  {
   "cell_type": "code",
   "execution_count": 16,
   "id": "b23a5d52",
   "metadata": {},
   "outputs": [
    {
     "name": "stdout",
     "output_type": "stream",
     "text": [
      "We are looking at Meta based on 499\n",
      "The features that would produce the lowest mean cv mse are \n",
      " ['bs_price', 'impliedVolatility', 'log_moneyness', 'ask_bid_spread'] \n",
      " and using these features, there is an avg cv mse of 32.04193083630774  across all the models.\n",
      "\n",
      "Among different models, the model with the best overall performance is MLR \n",
      "In comparison to the Black-Schole's model, it improves the performance by 88.57349181331516 %.\n",
      "\n",
      "\n",
      "The BS-Model improved the performance by 0.0 %.\n",
      "\n",
      "The MLR improved the performance by 88.57349181331516 %.\n",
      "\n",
      "The KNN improved the performance by 81.33856275921822 %.\n",
      "\n",
      "The Ridge improved the performance by 88.4291730163723 %.\n",
      "\n",
      "The Lasso improved the performance by 85.72563100656699 %.\n",
      "\n",
      "The Bagging improved the performance by 88.56504893472872 %.\n",
      "\n",
      "The XGBoost improved the performance by 85.5357217313592 %.\n",
      "\n",
      "The Random Forest improved the performance by 84.67868860010046 %.\n",
      "\n"
     ]
    }
   ],
   "source": [
    "# let us pick the data we want to focus on\n",
    "#calls =faang_df_clean[(faang_df_clean['option_type']=='call')]\n",
    "\n",
    "calls =faang_df_clean[(faang_df_clean['ticker']=='META') & (faang_df_clean['optionType']=='call')]\n",
    "\n",
    "df_train, df_test= train_test_split(calls, test_size=0.2, shuffle=True,random_state=213)\n",
    "\n",
    "## This array will hold the average mse for each set of features and model\n",
    "amses_meta = np.zeros((num_models, len(powerset_candidate_list)))\n",
    "\n",
    "# set a feature counter\n",
    "k = 0\n",
    "\n",
    "for subset in powerset_candidate_list:\n",
    "    #state which features are we using to train the model\n",
    "    #print(\"We are now trying to train the model using \", subset)\n",
    "\n",
    "    kfold = KFold(n_splits = 5, random_state = 213, shuffle = True)\n",
    "\n",
    "    ## This array will hold the mse for each model and split\n",
    "    subset_mse = np.zeros((num_models, num_splits))\n",
    "\n",
    "    ## sets a split counter\n",
    "    i = 0\n",
    "\n",
    "    ## Implement time series data split\n",
    "    num_data = len(calls)\n",
    "    percent = 0.1\n",
    "    #kfold_time = TimeSeriesSplit(n_splits = 5, test_size= int(num_data*percent)) \n",
    "\n",
    "    ## loop through the kfold here\n",
    "    for train_index, test_index in kfold.split(df_train):\n",
    "        ## cv training set\n",
    "        calls_tt = df_train.iloc[train_index]\n",
    "        ## cv holdout set\n",
    "        calls_ho = df_train.iloc[test_index]\n",
    "\n",
    "        ## Fit and get ho mse for the baseline model (Black-Schole's model)\n",
    "        subset_mse[0, i] = mse(calls_ho[\"lastPrice\"], calls_ho[\"bs_price\"])\n",
    "\n",
    "        ##run through all models, predict, and attach the mse to rmses\n",
    "        for model_index, (model_name, model) in enumerate(models.items()):\n",
    "            model.fit(calls_tt[subset], calls_tt[\"lastPrice\"])\n",
    "            preds = model.predict(calls_ho[subset])\n",
    "            mse_val = mse(calls_ho[\"lastPrice\"], preds)\n",
    "\n",
    "            # Store or print results\n",
    "            subset_mse[model_index + 1, i] = mse_val\n",
    "\n",
    "        i += 1\n",
    "\n",
    "    ## Append the avergae mse to amses\n",
    "    for j in range(num_models):\n",
    "        amses_meta[j, k] = np.mean(subset_mse[j,:])\n",
    "        \n",
    "    \n",
    "\n",
    "    k += 1\n",
    "\n",
    "evaluate_rmses(amses_meta, \"Meta\", calls_tt)\n",
    "    \n",
    "\n",
    "#Here is the code for us to record Meta's AMSES's data\n",
    "all_company_amses[\"Meta\"] = amses_meta[:,np.argmin(np.mean(amses_meta, axis=0))]   "
   ]
  },
  {
   "cell_type": "code",
   "execution_count": 17,
   "id": "288c27df",
   "metadata": {},
   "outputs": [
    {
     "data": {
      "application/vnd.jupyter.widget-view+json": {
       "model_id": "fc3dbf7d1b11497cbea193ccdabe39dc",
       "version_major": 2,
       "version_minor": 0
      },
      "text/plain": [
       "interactive(children=(Checkbox(value=True, description='Show Improved Price'), Output()), _dom_classes=('widge…"
      ]
     },
     "metadata": {},
     "output_type": "display_data"
    },
    {
     "data": {
      "text/plain": [
       "<function __main__.plot_with_toggle(show_scatter=True)>"
      ]
     },
     "execution_count": 17,
     "metadata": {},
     "output_type": "execute_result"
    }
   ],
   "source": [
    "best_model_index = np.argmin(np.mean(amses_meta, axis = 1))\n",
    "best_model = models_list[best_model_index]\n",
    "best_features = powerset_candidate_list[np.argmin(np.mean(amses_meta, axis=0))]\n",
    "\n",
    "model = list(models.items())[best_model_index-1][1]\n",
    "model.fit(df_train[best_features], df_train['lastPrice'])\n",
    "model_pred = model.predict(df_test[best_features])\n",
    "df_test[best_model] = model_pred\n",
    "\n",
    "# Toggle to show or hide the improved model prediction\n",
    "show_scatter = True  # Change to False to hide the scatter plot\n",
    "\n",
    "# Define the interactive function\n",
    "def plot_with_toggle(show_scatter=True):\n",
    "    plt.figure(figsize=(5, 5))\n",
    "    \n",
    "    # Plot y = x reference line\n",
    "    x = np.linspace(0, np.max(df_test[\"lastPrice\"]), 100)\n",
    "    plt.plot(x, x, color='blue', linestyle='--', label='y = x')\n",
    "\n",
    "    # Conditionally plot improved model prediction\n",
    "    if show_scatter:\n",
    "        plt.scatter(df_test[best_model], df_test['lastPrice'], label=\"Improved Price\")\n",
    "\n",
    "    # Always show the Black-Scholes prediction\n",
    "    plt.scatter(df_test[\"bs_price\"], df_test[\"lastPrice\"], label=\"BS Price Prediction\", color = \"orange\", alpha=0.5)\n",
    "\n",
    "    # Labels and title\n",
    "    plt.xlabel(\"Adjusted Black-Scholes Price\")\n",
    "    plt.ylabel(\"Market Price\")\n",
    "    plt.title(\"Google Market Price vs Adjusted BS Prediction\\nCV MSE: {:.4f}\".format(\n",
    "        mse(df_test[\"lastPrice\"], model_pred)))\n",
    "    plt.grid(True)\n",
    "    plt.legend()\n",
    "    plt.show()\n",
    "\n",
    "# Create and display the interactive widget\n",
    "widgets.interact(plot_with_toggle, show_scatter=widgets.Checkbox(value=True, description='Show Improved Price'))\n"
   ]
  },
  {
   "cell_type": "markdown",
   "id": "838817e4",
   "metadata": {},
   "source": [
    "<h2>This is for Apple<h2>"
   ]
  },
  {
   "cell_type": "code",
   "execution_count": 18,
   "id": "c860707e",
   "metadata": {},
   "outputs": [
    {
     "name": "stdout",
     "output_type": "stream",
     "text": [
      "We are looking at Apple based on 205\n",
      "The features that would produce the lowest mean cv mse are \n",
      " ['bs_price', 'impliedVolatility', 'log_moneyness', 'ask_bid_spread'] \n",
      " and using these features, there is an avg cv mse of 3.1782589442035154  across all the models.\n",
      "\n",
      "Among different models, the model with the best overall performance is Bagging \n",
      "In comparison to the Black-Schole's model, it improves the performance by 92.27551741409631 %.\n",
      "\n",
      "\n",
      "The BS-Model improved the performance by 0.0 %.\n",
      "\n",
      "The MLR improved the performance by 92.25818085268583 %.\n",
      "\n",
      "The KNN improved the performance by 79.83631721507848 %.\n",
      "\n",
      "The Ridge improved the performance by 91.30509068042699 %.\n",
      "\n",
      "The Lasso improved the performance by 84.74591696845604 %.\n",
      "\n",
      "The Bagging improved the performance by 92.27551741409631 %.\n",
      "\n",
      "The XGBoost improved the performance by 88.39433901658597 %.\n",
      "\n",
      "The Random Forest improved the performance by 80.5061911785128 %.\n",
      "\n"
     ]
    }
   ],
   "source": [
    "# let us pick the data we want to focus on\n",
    "#calls =faang_df_clean[(faang_df_clean['option_type']=='call')]\n",
    "\n",
    "calls = faang_df_clean[(faang_df_clean['ticker']=='AAPL') & (faang_df_clean['optionType']=='call')]\n",
    "\n",
    "df_train, df_test= train_test_split(calls, test_size=0.2, shuffle=True,random_state=213)\n",
    "\n",
    "\n",
    "## This array will hold the average mse for each set of features and model\n",
    "amses_apple = np.zeros((num_models, len(powerset_candidate_list)))\n",
    "\n",
    "# set a feature counter\n",
    "k = 0\n",
    "\n",
    "\n",
    "for subset in powerset_candidate_list:\n",
    "    #state which features are we using to train the model\n",
    "    #print(\"We are now trying to train the model using \", subset)\n",
    "\n",
    "    kfold = KFold(n_splits = 5, random_state = 213, shuffle = True)\n",
    "\n",
    "    ## This array will hold the mse for each model and split\n",
    "    subset_mse = np.zeros((num_models, num_splits))\n",
    "\n",
    "    ## sets a split counter\n",
    "    i = 0\n",
    "\n",
    "    ## Implement time series data split\n",
    "    num_data = len(calls)\n",
    "    percent = 0.1\n",
    "    #kfold_time = TimeSeriesSplit(n_splits = 5, test_size= int(num_data*percent)) \n",
    "\n",
    "    ## loop through the kfold here\n",
    "    for train_index, test_index in kfold.split(df_train):\n",
    "        ## cv training set\n",
    "        calls_tt = df_train.iloc[train_index]\n",
    "        ## cv holdout set\n",
    "        calls_ho = df_train.iloc[test_index]\n",
    "\n",
    "        ## Fit and get ho mse for the baseline model (Black-Schole's model)\n",
    "        subset_mse[0, i] = mse(calls_ho[\"lastPrice\"], calls_ho[\"bs_price\"])\n",
    "\n",
    "        for model_index, (model_name, model) in enumerate(models.items()):\n",
    "            model.fit(calls_tt[subset], calls_tt[\"lastPrice\"])\n",
    "            preds = model.predict(calls_ho[subset])\n",
    "            mse_val = mse(calls_ho[\"lastPrice\"], preds)\n",
    "\n",
    "            # Store or print results\n",
    "            subset_mse[model_index + 1, i] = mse_val\n",
    "\n",
    "        i += 1\n",
    "\n",
    "    ## Append the avergae mse to amses\n",
    "    for j in range(num_models):\n",
    "        amses_apple[j, k] = np.mean(subset_mse[j,:])\n",
    "    \n",
    "\n",
    "    k += 1\n",
    "\n",
    "evaluate_rmses(amses_apple, \"Apple\", calls_tt)\n",
    "    \n",
    "#here is the code for us to record Apple's performance\n",
    "all_company_amses[\"Apple\"] = amses_apple[:,np.argmin(np.mean(amses_apple, axis=0))]     "
   ]
  },
  {
   "cell_type": "code",
   "execution_count": 19,
   "id": "39b97512",
   "metadata": {},
   "outputs": [
    {
     "data": {
      "application/vnd.jupyter.widget-view+json": {
       "model_id": "8e91fb70f8ab4f1a8848d027a6d95cab",
       "version_major": 2,
       "version_minor": 0
      },
      "text/plain": [
       "interactive(children=(Checkbox(value=True, description='Show Improved Price'), Output()), _dom_classes=('widge…"
      ]
     },
     "metadata": {},
     "output_type": "display_data"
    },
    {
     "data": {
      "text/plain": [
       "<function __main__.plot_with_toggle(show_scatter=True)>"
      ]
     },
     "execution_count": 19,
     "metadata": {},
     "output_type": "execute_result"
    }
   ],
   "source": [
    "best_model_index = np.argmin(np.mean(amses_apple, axis = 1))\n",
    "best_model = models_list[best_model_index]\n",
    "best_features = powerset_candidate_list[np.argmin(np.mean(amses_apple, axis=0))]\n",
    "\n",
    "model = list(models.items())[best_model_index-1][1]\n",
    "model.fit(df_train[best_features], df_train['lastPrice'])\n",
    "model_pred = model.predict(df_test[best_features])\n",
    "df_test[best_model] = model_pred\n",
    "\n",
    "# Toggle to show or hide the improved model prediction\n",
    "show_scatter = True  # Change to False to hide the scatter plot\n",
    "\n",
    "# Define the interactive function\n",
    "def plot_with_toggle(show_scatter=True):\n",
    "    plt.figure(figsize=(5, 5))\n",
    "    \n",
    "    # Plot y = x reference line\n",
    "    x = np.linspace(0, np.max(df_test[\"lastPrice\"]), 100)\n",
    "    plt.plot(x, x, color='blue', linestyle='--', label='y = x')\n",
    "\n",
    "    # Conditionally plot improved model prediction\n",
    "    if show_scatter:\n",
    "        plt.scatter(df_test[best_model], df_test['lastPrice'], label=\"Improved Price\")\n",
    "\n",
    "    # Always show the Black-Scholes prediction\n",
    "    plt.scatter(df_test[\"bs_price\"], df_test[\"lastPrice\"], label=\"BS Price Prediction\", color = \"orange\", alpha=0.5)\n",
    "\n",
    "    # Labels and title\n",
    "    plt.xlabel(\"Adjusted Black-Scholes Price\")\n",
    "    plt.ylabel(\"Market Price\")\n",
    "    plt.title(\"Google Market Price vs Adjusted BS Prediction\\nCV MSE: {:.4f}\".format(\n",
    "        mse(df_test[\"lastPrice\"], model_pred)))\n",
    "    plt.grid(True)\n",
    "    plt.legend()\n",
    "    plt.show()\n",
    "\n",
    "# Create and display the interactive widget\n",
    "widgets.interact(plot_with_toggle, show_scatter=widgets.Checkbox(value=True, description='Show Improved Price'))\n",
    "\n"
   ]
  },
  {
   "cell_type": "markdown",
   "id": "21819306",
   "metadata": {},
   "source": [
    "<h2>This is for Amazon <h2>"
   ]
  },
  {
   "cell_type": "code",
   "execution_count": 20,
   "id": "9a64ae30",
   "metadata": {},
   "outputs": [
    {
     "name": "stdout",
     "output_type": "stream",
     "text": [
      "We are looking at Amazon based on 221\n",
      "The features that would produce the lowest mean cv mse are \n",
      " ['bs_price', 'impliedVolatility', 'log_moneyness', 'ask_bid_spread'] \n",
      " and using these features, there is an avg cv mse of 3.0929224308811456  across all the models.\n",
      "\n",
      "Among different models, the model with the best overall performance is MLR \n",
      "In comparison to the Black-Schole's model, it improves the performance by 86.62545369212519 %.\n",
      "\n",
      "\n",
      "The BS-Model improved the performance by 0.0 %.\n",
      "\n",
      "The MLR improved the performance by 86.62545369212519 %.\n",
      "\n",
      "The KNN improved the performance by 69.09582208453786 %.\n",
      "\n",
      "The Ridge improved the performance by 85.20894907332588 %.\n",
      "\n",
      "The Lasso improved the performance by 76.77557731728169 %.\n",
      "\n",
      "The Bagging improved the performance by 86.61346238491399 %.\n",
      "\n",
      "The XGBoost improved the performance by 80.40114322671421 %.\n",
      "\n",
      "The Random Forest improved the performance by 70.45936275866335 %.\n",
      "\n"
     ]
    }
   ],
   "source": [
    "# let us pick the data we want to focus on\n",
    "#calls =faang_df_clean[(faang_df_clean['option_type']=='call')]\n",
    "\n",
    "calls = faang_df_clean[(faang_df_clean['ticker']=='AMZN') & (faang_df_clean['optionType']=='call')]\n",
    "\n",
    "df_train, df_test= train_test_split(calls, test_size=0.2, shuffle=True,random_state=213)\n",
    "\n",
    "\n",
    "## This array will hold the average mse for each set of features and model\n",
    "amses_amazon = np.zeros((num_models, len(powerset_candidate_list)))\n",
    "\n",
    "# set a feature counter\n",
    "k = 0\n",
    "\n",
    "for subset in powerset_candidate_list:\n",
    "    #state which features are we using to train the model\n",
    "    #print(\"We are now trying to train the model using \", subset)\n",
    "\n",
    "    kfold = KFold(n_splits = 5, random_state = 213, shuffle = True)\n",
    "\n",
    "    ## This array will hold the mse for each model and split\n",
    "    subset_mse = np.zeros((num_models, num_splits))\n",
    "\n",
    "    ## sets a split counter\n",
    "    i = 0\n",
    "\n",
    "    ## Implement time series data split\n",
    "    num_data = len(calls)\n",
    "    percent = 0.1\n",
    "    #kfold_time = TimeSeriesSplit(n_splits = 5, test_size= int(num_data*percent)) \n",
    "\n",
    "    ## loop through the kfold here\n",
    "    for train_index, test_index in kfold.split(df_train):\n",
    "        ## cv training set\n",
    "        calls_tt = df_train.iloc[train_index]\n",
    "        ## cv holdout set\n",
    "        calls_ho = df_train.iloc[test_index]\n",
    "\n",
    "        ## Fit and get ho mse for the baseline model (Black-Schole's model)\n",
    "        subset_mse[0, i] = mse(calls_ho[\"lastPrice\"], calls_ho[\"bs_price\"])\n",
    "\n",
    "        for model_index, (model_name, model) in enumerate(models.items()):\n",
    "            model.fit(calls_tt[subset], calls_tt[\"lastPrice\"])\n",
    "            preds = model.predict(calls_ho[subset])\n",
    "            mse_val = mse(calls_ho[\"lastPrice\"], preds)\n",
    "\n",
    "            # Store or print results\n",
    "            subset_mse[model_index + 1, i] = mse_val\n",
    "        i += 1\n",
    "\n",
    "    ## Append the avergae mse to amses\n",
    "    for j in range(num_models):\n",
    "        amses_amazon[j, k] = np.mean(subset_mse[j,:])\n",
    "    \n",
    "\n",
    "    k += 1\n",
    "\n",
    "evaluate_rmses(amses_amazon, \"Amazon\", calls_tt)\n",
    "\n",
    "#here is the code for us to record Amazon's performance\n",
    "all_company_amses[\"Amazon\"] = amses_amazon[:,np.argmin(np.mean(amses_amazon, axis=0))]  "
   ]
  },
  {
   "cell_type": "code",
   "execution_count": 21,
   "id": "fc8f4a0d",
   "metadata": {},
   "outputs": [
    {
     "data": {
      "application/vnd.jupyter.widget-view+json": {
       "model_id": "bd05885af50744bb8a71ea2949ff0c43",
       "version_major": 2,
       "version_minor": 0
      },
      "text/plain": [
       "interactive(children=(Checkbox(value=True, description='Show Improved Price'), Output()), _dom_classes=('widge…"
      ]
     },
     "metadata": {},
     "output_type": "display_data"
    },
    {
     "data": {
      "text/plain": [
       "<function __main__.plot_with_toggle(show_scatter=True)>"
      ]
     },
     "execution_count": 21,
     "metadata": {},
     "output_type": "execute_result"
    }
   ],
   "source": [
    "best_model_index = np.argmin(np.mean(amses_amazon, axis = 1))\n",
    "best_model = models_list[best_model_index]\n",
    "best_features = powerset_candidate_list[np.argmin(np.mean(amses_amazon, axis=0))]\n",
    "\n",
    "model = list(models.items())[best_model_index-1][1]\n",
    "model.fit(df_train[best_features], df_train['lastPrice'])\n",
    "model_pred = model.predict(df_test[best_features])\n",
    "df_test[best_model] = model_pred\n",
    "\n",
    "# Toggle to show or hide the improved model prediction\n",
    "show_scatter = True  # Change to False to hide the scatter plot\n",
    "\n",
    "# Define the interactive function\n",
    "def plot_with_toggle(show_scatter=True):\n",
    "    plt.figure(figsize=(5, 5))\n",
    "    \n",
    "    # Plot y = x reference line\n",
    "    x = np.linspace(0, np.max(df_test[\"lastPrice\"]), 100)\n",
    "    plt.plot(x, x, color='blue', linestyle='--', label='y = x')\n",
    "\n",
    "    # Conditionally plot improved model prediction\n",
    "    if show_scatter:\n",
    "        plt.scatter(df_test[best_model], df_test['lastPrice'], label=\"Improved Price\")\n",
    "\n",
    "    # Always show the Black-Scholes prediction\n",
    "    plt.scatter(df_test[\"bs_price\"], df_test[\"lastPrice\"], label=\"BS Price Prediction\", color = \"orange\", alpha=0.5)\n",
    "\n",
    "    # Labels and title\n",
    "    plt.xlabel(\"Adjusted Black-Scholes Price\")\n",
    "    plt.ylabel(\"Market Price\")\n",
    "    plt.title(\"Google Market Price vs Adjusted BS Prediction\\nCV MSE: {:.4f}\".format(\n",
    "        mse(df_test[\"lastPrice\"], model_pred)))\n",
    "    plt.grid(True)\n",
    "    plt.legend()\n",
    "    plt.show()\n",
    "\n",
    "# Create and display the interactive widget\n",
    "widgets.interact(plot_with_toggle, show_scatter=widgets.Checkbox(value=True, description='Show Improved Price'))\n"
   ]
  },
  {
   "cell_type": "markdown",
   "id": "3f2ed386",
   "metadata": {},
   "source": [
    "<h2> This is for Netflix <h2>"
   ]
  },
  {
   "cell_type": "code",
   "execution_count": 22,
   "id": "4dfabfec",
   "metadata": {},
   "outputs": [
    {
     "name": "stdout",
     "output_type": "stream",
     "text": [
      "We are looking at Netflix based on 469\n",
      "The features that would produce the lowest mean cv mse are \n",
      " ['bs_price', 'impliedVolatility', 'log_moneyness', 'ask_bid_spread'] \n",
      " and using these features, there is an avg cv mse of 183.5962524819206  across all the models.\n",
      "\n",
      "Among different models, the model with the best overall performance is MLR \n",
      "In comparison to the Black-Schole's model, it improves the performance by 90.236231650496 %.\n",
      "\n",
      "\n",
      "The BS-Model improved the performance by 0.0 %.\n",
      "\n",
      "The MLR improved the performance by 90.236231650496 %.\n",
      "\n",
      "The KNN improved the performance by 86.40369636438629 %.\n",
      "\n",
      "The Ridge improved the performance by 90.17926211309062 %.\n",
      "\n",
      "The Lasso improved the performance by 88.47084075708132 %.\n",
      "\n",
      "The Bagging improved the performance by 90.23490042075227 %.\n",
      "\n",
      "The XGBoost improved the performance by 89.22931103952583 %.\n",
      "\n",
      "The Random Forest improved the performance by 88.83359044064295 %.\n",
      "\n"
     ]
    }
   ],
   "source": [
    "# let us pick the data we want to focus on\n",
    "#calls =faang_df_clean[(faang_df_clean['option_type']=='call')]\n",
    "\n",
    "calls = faang_df_clean[(faang_df_clean['ticker']=='NFLX') & (faang_df_clean['optionType']=='call')]\n",
    "\n",
    "df_train, df_test= train_test_split(calls, test_size=0.2, shuffle=True,random_state=213)\n",
    "\n",
    "## This array will hold the average mse for each set of features and model\n",
    "amses_netflix = np.zeros((num_models, len(powerset_candidate_list)))\n",
    "\n",
    "# set a feature counter\n",
    "k = 0\n",
    "\n",
    "for subset in powerset_candidate_list:\n",
    "    #state which features are we using to train the model\n",
    "    #print(\"We are now trying to train the model using \", subset)\n",
    "\n",
    "    kfold = KFold(n_splits = 5, random_state = 213, shuffle = True)\n",
    "\n",
    "    ## This array will hold the mse for each model and split\n",
    "    subset_mse = np.zeros((num_models, num_splits))\n",
    "\n",
    "    ## sets a split counter\n",
    "    i = 0\n",
    "\n",
    "    ## Implement time series data split\n",
    "    num_data = len(calls)\n",
    "    percent = 0.1\n",
    "    #kfold_time = TimeSeriesSplit(n_splits = 5, test_size= int(num_data*percent)) \n",
    "\n",
    "    ## loop through the kfold here\n",
    "    for train_index, test_index in kfold.split(df_train):\n",
    "        ## cv training set\n",
    "        calls_tt = df_train.iloc[train_index]\n",
    "        ## cv holdout set\n",
    "        calls_ho = df_train.iloc[test_index]\n",
    "\n",
    "        ## Fit and get ho mse for the baseline model (Black-Schole's model)\n",
    "        subset_mse[0, i] = mse(calls_ho[\"lastPrice\"], calls_ho[\"bs_price\"])\n",
    "\n",
    "        for model_index, (model_name, model) in enumerate(models.items()):\n",
    "            model.fit(calls_tt[subset], calls_tt[\"lastPrice\"])\n",
    "            preds = model.predict(calls_ho[subset])\n",
    "            mse_val = mse(calls_ho[\"lastPrice\"], preds)\n",
    "\n",
    "            # Store or print results\n",
    "            subset_mse[model_index + 1, i] = mse_val\n",
    "\n",
    "        i += 1\n",
    "\n",
    "    ## Append the avergae mse to amses\n",
    "    for j in range(num_models):\n",
    "        amses_netflix[j, k] = np.mean(subset_mse[j,:])\n",
    "    \n",
    "\n",
    "    k += 1\n",
    "\n",
    "evaluate_rmses(amses_netflix, \"Netflix\", calls_tt)\n",
    "    \n",
    "#here is the code for us to record Netflix's performance\n",
    "all_company_amses[\"Netflix\"] = amses_netflix[:,np.argmin(np.mean(amses_netflix, axis=0))]    "
   ]
  },
  {
   "cell_type": "code",
   "execution_count": 23,
   "id": "05aa7cbc",
   "metadata": {},
   "outputs": [
    {
     "data": {
      "application/vnd.jupyter.widget-view+json": {
       "model_id": "3286a0f6f2ad43628de0cb9cc63f7dd8",
       "version_major": 2,
       "version_minor": 0
      },
      "text/plain": [
       "interactive(children=(Checkbox(value=True, description='Show Improved Price'), Output()), _dom_classes=('widge…"
      ]
     },
     "metadata": {},
     "output_type": "display_data"
    },
    {
     "data": {
      "text/plain": [
       "<function __main__.plot_with_toggle(show_scatter=True)>"
      ]
     },
     "execution_count": 23,
     "metadata": {},
     "output_type": "execute_result"
    }
   ],
   "source": [
    "best_model_index = np.argmin(np.mean(amses_netflix, axis = 1))\n",
    "best_model = models_list[best_model_index]\n",
    "best_features = powerset_candidate_list[np.argmin(np.mean(amses_netflix, axis=0))]\n",
    "\n",
    "model = list(models.items())[best_model_index-1][1]\n",
    "model.fit(df_train[best_features], df_train['lastPrice'])\n",
    "model_pred = model.predict(df_test[best_features])\n",
    "df_test[best_model] = model_pred\n",
    "\n",
    "# Toggle to show or hide the improved model prediction\n",
    "show_scatter = True  # Change to False to hide the scatter plot\n",
    "\n",
    "# Define the interactive function\n",
    "def plot_with_toggle(show_scatter=True):\n",
    "    plt.figure(figsize=(5, 5))\n",
    "    \n",
    "    # Plot y = x reference line\n",
    "    x = np.linspace(0, np.max(df_test[\"lastPrice\"]), 100)\n",
    "    plt.plot(x, x, color='blue', linestyle='--', label='y = x')\n",
    "\n",
    "    # Always show the Black-Scholes prediction\n",
    "    plt.scatter(df_test[\"bs_price\"], df_test[\"lastPrice\"], label=\"BS Price Prediction\", color = \"orange\", alpha=0.5)\n",
    "\n",
    "    # Conditionally plot improved model prediction\n",
    "    if show_scatter:\n",
    "        plt.scatter(df_test[best_model], df_test['lastPrice'], label=\"Improved Price\")\n",
    "\n",
    "    # Labels and title\n",
    "    plt.xlabel(\"Adjusted Black-Scholes Price\")\n",
    "    plt.ylabel(\"Market Price\")\n",
    "    plt.title(\"Google Market Price vs Adjusted BS Prediction\\nCV MSE: {:.4f}\".format(\n",
    "        mse(df_test[\"lastPrice\"], model_pred)))\n",
    "    plt.grid(True)\n",
    "    plt.legend()\n",
    "    plt.show()\n",
    "\n",
    "# Create and display the interactive widget\n",
    "widgets.interact(plot_with_toggle, show_scatter=widgets.Checkbox(value=True, description='Show Improved Price'))"
   ]
  },
  {
   "cell_type": "markdown",
   "id": "f571c4df",
   "metadata": {},
   "source": [
    "<h2>This is for Google <h2>"
   ]
  },
  {
   "cell_type": "code",
   "execution_count": 24,
   "id": "c4a38a68",
   "metadata": {},
   "outputs": [
    {
     "name": "stdout",
     "output_type": "stream",
     "text": [
      "We are looking at Google based on 173\n",
      "The features that would produce the lowest mean cv mse are \n",
      " ['bs_price', 'impliedVolatility', 'log_moneyness', 'ask_bid_spread'] \n",
      " and using these features, there is an avg cv mse of 3.761666176294359  across all the models.\n",
      "\n",
      "Among different models, the model with the best overall performance is Bagging \n",
      "In comparison to the Black-Schole's model, it improves the performance by 77.58446730798234 %.\n",
      "\n",
      "\n",
      "The BS-Model improved the performance by 0.0 %.\n",
      "\n",
      "The MLR improved the performance by 77.55052789700201 %.\n",
      "\n",
      "The KNN improved the performance by 67.40491613118556 %.\n",
      "\n",
      "The Ridge improved the performance by 76.92274080137707 %.\n",
      "\n",
      "The Lasso improved the performance by 72.85028157949847 %.\n",
      "\n",
      "The Bagging improved the performance by 77.58446730798234 %.\n",
      "\n",
      "The XGBoost improved the performance by 65.02183600093058 %.\n",
      "\n",
      "The Random Forest improved the performance by 65.3986283668567 %.\n",
      "\n"
     ]
    }
   ],
   "source": [
    "#let us pick the data we want to focus on\n",
    "#calls =faang_df_clean[(faang_df_clean['option_type']=='call')]\n",
    "\n",
    "calls = faang_df_clean[(faang_df_clean['ticker']=='GOOG') & (faang_df_clean['optionType']=='call')]\n",
    "\n",
    "df_train, df_test= train_test_split(calls, test_size=0.2, shuffle=True,random_state=213)\n",
    "\n",
    "## This array will hold the average mse for each set of features and model\n",
    "amses_google = np.zeros((num_models, len(powerset_candidate_list)))\n",
    "\n",
    "# set a feature counter\n",
    "k = 0\n",
    "\n",
    "for subset in powerset_candidate_list:\n",
    "\n",
    "    #creating the k-fold splitting\n",
    "    kfold = KFold(n_splits = 5, random_state = 213, shuffle = True)\n",
    "\n",
    "    ## This array will hold the mse for each model and split\n",
    "    subset_mse = np.zeros((num_models, num_splits))\n",
    "\n",
    "    ## sets a split counter\n",
    "    i = 0\n",
    "\n",
    "    ## Implement time series data split\n",
    "    num_data = len(calls)\n",
    "    percent = 0.1\n",
    "    #kfold_time = TimeSeriesSplit(n_splits = 5, test_size= int(num_data*percent)) \n",
    "\n",
    "    ## loop through the kfold here\n",
    "    for train_index, test_index in kfold.split(df_train):\n",
    "        ## cv training set\n",
    "        calls_tt = df_train.iloc[train_index]\n",
    "        ## cv holdout set\n",
    "        calls_ho = df_train.iloc[test_index]\n",
    "\n",
    "        ## Fit and get ho mse for the baseline model (Black-Schole's model)\n",
    "        subset_mse[0, i] = mse(calls_ho[\"lastPrice\"], calls_ho[\"bs_price\"])\n",
    "\n",
    "        for model_index, (model_name, model) in enumerate(models.items()):\n",
    "            model.fit(calls_tt[subset], calls_tt[\"lastPrice\"])\n",
    "            preds = model.predict(calls_ho[subset])\n",
    "            mse_val = mse(calls_ho[\"lastPrice\"], preds)\n",
    "\n",
    "            # Store or print results\n",
    "            subset_mse[model_index + 1, i] = mse_val\n",
    "\n",
    "        i += 1\n",
    "\n",
    "    ## Append the avergae mse to amses\n",
    "    for j in range(num_models):\n",
    "        amses_google[j, k] = np.mean(subset_mse[j,:])\n",
    "    \n",
    "\n",
    "    k += 1\n",
    "\n",
    "evaluate_rmses(amses_google, \"Google\", calls_tt)\n",
    "    \n",
    "#here is the code for us to record Google's performance\n",
    "all_company_amses[\"Google\"] = amses_google[:,np.argmin(np.mean(amses_google, axis=0))] \n"
   ]
  },
  {
   "cell_type": "code",
   "execution_count": 25,
   "id": "96f654c4",
   "metadata": {},
   "outputs": [
    {
     "data": {
      "application/vnd.jupyter.widget-view+json": {
       "model_id": "a03d67789aeb489f912c65f4900eba1e",
       "version_major": 2,
       "version_minor": 0
      },
      "text/plain": [
       "interactive(children=(Checkbox(value=True, description='Show Improved Price'), Output()), _dom_classes=('widge…"
      ]
     },
     "metadata": {},
     "output_type": "display_data"
    },
    {
     "data": {
      "text/plain": [
       "<function __main__.plot_with_toggle(show_scatter=True)>"
      ]
     },
     "execution_count": 25,
     "metadata": {},
     "output_type": "execute_result"
    }
   ],
   "source": [
    "best_model_index = np.argmin(np.mean(amses_google, axis = 1))\n",
    "best_model = models_list[best_model_index]\n",
    "best_features = powerset_candidate_list[np.argmin(np.mean(amses_google, axis=0))]\n",
    "\n",
    "model = list(models.items())[best_model_index-1][1]\n",
    "model.fit(df_train[best_features], df_train['lastPrice'])\n",
    "model_pred = model.predict(df_test[best_features])\n",
    "df_test[best_model] = model_pred\n",
    "\n",
    "# Toggle to show or hide the improved model prediction\n",
    "show_scatter = True  # Change to False to hide the scatter plot\n",
    "\n",
    "# Define the interactive function\n",
    "def plot_with_toggle(show_scatter=True):\n",
    "    plt.figure(figsize=(5, 5))\n",
    "    \n",
    "    # Plot y = x reference line\n",
    "    x = np.linspace(0, np.max(df_test[\"lastPrice\"]), 100)\n",
    "    plt.plot(x, x, color='blue', linestyle='--', label='y = x')\n",
    "\n",
    "    # Conditionally plot improved model prediction\n",
    "    if show_scatter:\n",
    "        plt.scatter(df_test[best_model], df_test['lastPrice'], label=\"Improved Price\")\n",
    "\n",
    "    # Always show the Black-Scholes prediction\n",
    "    plt.scatter(df_test[\"bs_price\"], df_test[\"lastPrice\"], label=\"BS Price Prediction\", color = \"orange\", alpha=0.5)\n",
    "\n",
    "    # Labels and title\n",
    "    plt.xlabel(\"Adjusted Black-Scholes Price\")\n",
    "    plt.ylabel(\"Market Price\")\n",
    "    plt.title(\"Google Market Price vs Adjusted BS Prediction\\nCV MSE: {:.4f}\".format(\n",
    "        mse(df_test[\"lastPrice\"], model_pred)))\n",
    "    plt.grid(True)\n",
    "    plt.legend()\n",
    "    plt.show()\n",
    "\n",
    "# Create and display the interactive widget\n",
    "widgets.interact(plot_with_toggle, show_scatter=widgets.Checkbox(value=True, description='Show Improved Price'))\n"
   ]
  },
  {
   "cell_type": "markdown",
   "id": "d2f45d75",
   "metadata": {},
   "source": [
    "The plot I generated shows, for each company, the mean squared error (MSE) between the predicted option prices from each model and the observed lastPrice. Note that the MSEs in the plot are not the actual values — I applied a scaling factor to make the Black-Scholes model's price the same across all companies and scaled the predictions from all other models by the same factor. This allows for a more intuitive visual comparison of the relative improvement each model achieves, as reflected by the reduction in bar height."
   ]
  },
  {
   "cell_type": "code",
   "execution_count": 26,
   "id": "e65501df",
   "metadata": {},
   "outputs": [],
   "source": [
    "#standardized all bs model MSE\n",
    "for i in range(all_company_amses.shape[1]-1):\n",
    "    coef = float(all_company_amses.iloc[0, 0]/all_company_amses.iloc[0, i+1])\n",
    "    for j in range(all_company_amses.shape[0]):\n",
    "        all_company_amses.iloc[j, i+1] *= coef\n"
   ]
  },
  {
   "cell_type": "code",
   "execution_count": 27,
   "id": "57b7afba",
   "metadata": {},
   "outputs": [
    {
     "name": "stdout",
     "output_type": "stream",
     "text": [
      "Read the explanation above to correctly interpret the graph.\n"
     ]
    },
    {
     "data": {
      "image/png": "[encoded data removed]",
      "text/plain": [
       "<Figure size 1000x600 with 1 Axes>"
      ]
     },
     "metadata": {},
     "output_type": "display_data"
    }
   ],
   "source": [
    "# Plot the bar chart for comparing model efficiency\n",
    "all_company_amses.plot(kind='bar', figsize=(10, 6))\n",
    "\n",
    "print(\"Read the explanation above to correctly interpret the graph.\")\n",
    "plt.title('Scaled Model Performance for Each Company')\n",
    "plt.ylabel('Average MSE')  # or any performance metric you're using\n",
    "plt.xlabel('Models')\n",
    "plt.xticks(rotation=0)\n",
    "plt.legend(title='Company')\n",
    "plt.tight_layout()\n",
    "plt.show()"
   ]
  },
  {
   "cell_type": "markdown",
   "id": "a10e7c6b",
   "metadata": {},
   "source": [
    "Improvement for all companies."
   ]
  },
  {
   "cell_type": "code",
   "execution_count": 28,
   "id": "47e56a34",
   "metadata": {},
   "outputs": [
    {
     "name": "stdout",
     "output_type": "stream",
     "text": [
      "We are looking at all companies based on 1568 data.\n",
      "The features that would produce the lowest mean cv mse are \n",
      " ['bs_price', 'impliedVolatility', 'log_moneyness', 'ask_bid_spread'] \n",
      " and using these features, there is an avg cv mse of 64.83064335551914  across all the models.\n",
      "\n",
      "Among different models, the model with the best overall performance is MLR \n",
      "In comparison to the Black-Schole's model, it improves the performance by 88.79638836320602 %.\n",
      "\n",
      "\n",
      "The BS-Model improved the performance by 0.0 %.\n",
      "\n",
      "The MLR improved the performance by 88.79638836320602 %.\n",
      "\n",
      "The KNN improved the performance by 85.66009693106416 %.\n",
      "\n",
      "The Ridge improved the performance by 88.79088397907641 %.\n",
      "\n",
      "The Lasso improved the performance by 87.11129313138758 %.\n",
      "\n",
      "The Bagging improved the performance by 88.79233264193253 %.\n",
      "\n",
      "The XGBoost improved the performance by 88.13535490775935 %.\n",
      "\n",
      "The Random Forest improved the performance by 87.9592414845768 %.\n",
      "\n"
     ]
    }
   ],
   "source": [
    "# let us pick the data we want to focus on\n",
    "#calls =faang_df_clean[(faang_df_clean['option_type']=='call')]\n",
    "\n",
    "calls = faang_df_clean[(faang_df_clean['optionType']=='call')]\n",
    "\n",
    "df_train, df_test= train_test_split(calls, test_size=0.2, shuffle=True,random_state=213)\n",
    "\n",
    "## This array will hold the average mse for each set of features and model\n",
    "amses = np.zeros((num_models, len(powerset_candidate_list)))\n",
    "\n",
    "# set a feature counter\n",
    "k = 0\n",
    "\n",
    "for subset in powerset_candidate_list:\n",
    "    #state which features are we using to train the model\n",
    "    #print(\"We are now trying to train the model using \", subset)\n",
    "\n",
    "    kfold = KFold(n_splits = 5, shuffle = True, random_state = 213)\n",
    "\n",
    "    ## This array will hold the mse for each model and split\n",
    "    rmses = np.zeros((num_models, num_splits))\n",
    "\n",
    "    ## sets a split counter\n",
    "    i = 0\n",
    "\n",
    "    ## Implement time series data split\n",
    "    num_data = len(calls)\n",
    "    percent = 0.1\n",
    "    #kfold_time = TimeSeriesSplit(n_splits = 5, test_size= int(num_data*percent)) \n",
    "\n",
    "    ## loop through the kfold here\n",
    "    for train_index, test_index in kfold.split(df_train):\n",
    "        ## cv training set\n",
    "        calls_tt = df_train.iloc[train_index]\n",
    "        ## cv holdout set\n",
    "        calls_ho = df_train.iloc[test_index]\n",
    "\n",
    "        ## Fit and get ho mse for the baseline model (Black-Schole's model)\n",
    "        rmses[0, i] = mse(calls_ho[\"lastPrice\"], calls_ho[\"bs_price\"])\n",
    "\n",
    "        for model_index, (model_name, model) in enumerate(models.items()):\n",
    "            model.fit(calls_tt[subset], calls_tt[\"lastPrice\"])\n",
    "            preds = model.predict(calls_ho[subset])\n",
    "            mse_val = mse(calls_ho[\"lastPrice\"], preds)\n",
    "\n",
    "            # Store or print results\n",
    "            rmses[model_index + 1, i] = mse_val\n",
    "\n",
    "\n",
    "        i += 1\n",
    "\n",
    "    ## Append the avergae mse to amses\n",
    "    for j in range(num_models):\n",
    "        amses[j, k] = np.mean(rmses[j,:])\n",
    "    k += 1\n",
    "\n",
    "# Find the avg cv mse for each subset of features here\n",
    "print(\"We are looking at all companies based on\", calls_tt.shape[0], \"data.\")\n",
    "print(\"The features that would produce the lowest mean cv mse are \\n\", \n",
    "    powerset_candidate_list[np.argmin(np.mean(amses, axis=0))],\n",
    "    \"\\n and using these features, there is an avg cv mse of\",\n",
    "    np.mean(amses, axis=0)[np.argmin(np.mean(amses, axis=0))], \n",
    "    \" across all the models.\\n\")\n",
    "\n",
    "print(\"Among different models, the model with the best overall performance is\", \n",
    "    models_list[np.argmin(np.mean(amses, axis = 1))], \n",
    "    \"\\nIn comparison to the Black-Schole's model, it improves the performance by\", \n",
    "    float((np.mean(amses, axis=1)[0] - np.mean(amses, axis=1)[np.argmin(np.mean(amses, axis=1))])/np.mean(amses, axis=1)[0]) * 100, \"%.\\n\")\n",
    "\n",
    "print()\n",
    "# This code will print the improvement by each model\n",
    "for model in range(len(models_list)):\n",
    "    print(\"The\", models_list[model], \"improved the performance by\", \n",
    "        float((np.mean(amses[0,:])- np.mean(amses[model,:]))/\n",
    "                                            np.mean(amses[0, :])) * 100, \"%.\\n\")\n"
   ]
  }
 ],
 "metadata": {
  "kernelspec": {
   "display_name": "erdos_summer_2025",
   "language": "python",
   "name": "python3"
  },
  "language_info": {
   "codemirror_mode": {
    "name": "ipython",
    "version": 3
   },
   "file_extension": ".py",
   "mimetype": "text/x-python",
   "name": "python",
   "nbconvert_exporter": "python",
   "pygments_lexer": "ipython3",
   "version": "3.12.10"
  }
 },
 "nbformat": 4,
 "nbformat_minor": 5
}
