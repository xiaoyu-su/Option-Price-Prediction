{
 "cells": [
  {
   "cell_type": "markdown",
   "id": "3c21a0fe",
   "metadata": {},
   "source": [
    "This is used to download FAANG's data"
   ]
  },
  {
   "cell_type": "code",
   "execution_count": null,
   "id": "09b4201a",
   "metadata": {},
   "outputs": [],
   "source": [
    "import yfinance as yf\n",
    "import pandas as pd\n",
    "import time\n",
    "\n",
    "# List of company tickers you want to download options for\n",
    "tickers = [\"Meta\", \"AAPL\", \"AMZN\", \"NFLX\", \"GOOG\"]  # Add more if needed\n",
    "\n",
    "# Loop through each ticker\n",
    "for ticker in tickers:\n",
    "    print(f\"Downloading option data for {ticker}...\")\n",
    "    stock = yf.Ticker(ticker)\n",
    "    \n",
    "    try:\n",
    "        expiration_dates = stock.options\n",
    "    except Exception as e:\n",
    "        print(f\"Could not fetch expiration dates for {ticker}: {e}\")\n",
    "        continue\n",
    "\n",
    "    all_options = []\n",
    "\n",
    "    for date in expiration_dates:\n",
    "        try:\n",
    "            chain = stock.option_chain(date)\n",
    "            calls = chain.calls.copy()\n",
    "            calls[\"optionType\"] = \"call\"\n",
    "            calls[\"expirationDate\"] = date\n",
    "\n",
    "            puts = chain.puts.copy()\n",
    "            puts[\"optionType\"] = \"put\"\n",
    "            puts[\"expirationDate\"] = date\n",
    "\n",
    "            combined = pd.concat([calls, puts], ignore_index=True)\n",
    "            combined[\"ticker\"] = ticker  # Add ticker column\n",
    "            all_options.append(combined)\n",
    "\n",
    "            time.sleep(0.5)  # Respectful delay between requests\n",
    "\n",
    "        except Exception as e:\n",
    "            print(f\"Failed to download options for {ticker} on {date}: {e}\")\n",
    "            continue\n",
    "\n",
    "    if all_options:\n",
    "        df_all = pd.concat(all_options, ignore_index=True)\n",
    "        filename = f\"{ticker}_all_options.csv\"\n",
    "        df_all.to_csv(filename, index=False)\n",
    "        print(f\"Saved {filename} with {len(df_all)} rows.\\n\")\n",
    "    else:\n",
    "        print(f\"No option data saved for {ticker}.\\n\")\n",
    "\n",
    "    "
   ]
  }
 ],
 "metadata": {
  "kernelspec": {
   "display_name": "erdos_summer_2025",
   "language": "python",
   "name": "python3"
  },
  "language_info": {
   "name": "python",
   "version": "3.12.10"
  }
 },
 "nbformat": 4,
 "nbformat_minor": 5
}
